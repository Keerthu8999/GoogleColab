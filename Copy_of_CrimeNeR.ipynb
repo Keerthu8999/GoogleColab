{
  "cells": [
    {
      "cell_type": "markdown",
      "metadata": {
        "id": "view-in-github",
        "colab_type": "text"
      },
      "source": [
        "<a href=\"https://colab.research.google.com/github/Keerthu8999/GoogleColab/blob/main/Copy_of_CrimeNeR.ipynb\" target=\"_parent\"><img src=\"https://colab.research.google.com/assets/colab-badge.svg\" alt=\"Open In Colab\"/></a>"
      ]
    },
    {
      "cell_type": "markdown",
      "metadata": {
        "id": "Jv5qJraepJvB"
      },
      "source": [
        "# Crime Attribute Extraction App"
      ]
    },
    {
      "cell_type": "markdown",
      "metadata": {
        "id": "nYOpdGW39AW6"
      },
      "source": [
        "##  Part  1"
      ]
    },
    {
      "cell_type": "markdown",
      "metadata": {
        "id": "W97ryK1vpJvE"
      },
      "source": [
        "Loading Dataseet"
      ]
    },
    {
      "cell_type": "code",
      "execution_count": 1,
      "metadata": {
        "id": "iKl4v1WT6SGE"
      },
      "outputs": [],
      "source": [
        "import sys\n",
        "sys.path.append(\"/content/sample_data\")\n",
        "from CoNLL2Spacy import *"
      ]
    },
    {
      "cell_type": "code",
      "execution_count": null,
      "metadata": {
        "id": "1h9G_oOx6SJN"
      },
      "outputs": [],
      "source": [
        "# Test File\n",
        "file = open(\"/content/sample_data/Crimetest.txt\", \"r\",encoding = \"utf-8\")\n",
        "valList = []\n",
        "for line in file:\n",
        "    valList.append(line[:-1])\n",
        "valList[:15]"
      ]
    },
    {
      "cell_type": "code",
      "execution_count": 3,
      "metadata": {
        "id": "tokkaRI46X64"
      },
      "outputs": [],
      "source": [
        "TEST_DATA = conll2spacy(valList)"
      ]
    },
    {
      "cell_type": "code",
      "execution_count": 4,
      "metadata": {
        "colab": {
          "base_uri": "https://localhost:8080/"
        },
        "id": "qfOT4a8S6pnm",
        "outputId": "840faf63-9522-47cc-9008-431b04ae8f46"
      },
      "outputs": [
        {
          "output_type": "execute_result",
          "data": {
            "text/plain": [
              "['Thousands O',\n",
              " 'of O',\n",
              " 'demonstrators O',\n",
              " 'have O',\n",
              " 'marched O',\n",
              " 'through O',\n",
              " 'London B-geo',\n",
              " 'to O',\n",
              " 'protest O',\n",
              " 'the O',\n",
              " 'war O',\n",
              " 'in O',\n",
              " 'Iraq B-geo',\n",
              " 'and O',\n",
              " 'demand O']"
            ]
          },
          "metadata": {},
          "execution_count": 4
        }
      ],
      "source": [
        "# Train File\n",
        "file = open(\"/content/sample_data/Crimetrain.txt\", \"r\",encoding = \"utf-8\")\n",
        "trainList = []\n",
        "for line in file:\n",
        "    trainList.append(line[:-1])\n",
        "trainList[:15]"
      ]
    },
    {
      "cell_type": "code",
      "source": [
        "from google.colab import drive\n",
        "drive.mount('/content/drive')"
      ],
      "metadata": {
        "colab": {
          "base_uri": "https://localhost:8080/",
          "height": 351
        },
        "id": "BZTRAxlTGRV2",
        "outputId": "9a8d2422-02df-4813-ce42-7be9af4e43ee"
      },
      "execution_count": 5,
      "outputs": [
        {
          "output_type": "error",
          "ename": "MessageError",
          "evalue": "Error: credential propagation was unsuccessful",
          "traceback": [
            "\u001b[0;31m---------------------------------------------------------------------------\u001b[0m",
            "\u001b[0;31mMessageError\u001b[0m                              Traceback (most recent call last)",
            "\u001b[0;32m<ipython-input-5-d5df0069828e>\u001b[0m in \u001b[0;36m<cell line: 2>\u001b[0;34m()\u001b[0m\n\u001b[1;32m      1\u001b[0m \u001b[0;32mfrom\u001b[0m \u001b[0mgoogle\u001b[0m\u001b[0;34m.\u001b[0m\u001b[0mcolab\u001b[0m \u001b[0;32mimport\u001b[0m \u001b[0mdrive\u001b[0m\u001b[0;34m\u001b[0m\u001b[0;34m\u001b[0m\u001b[0m\n\u001b[0;32m----> 2\u001b[0;31m \u001b[0mdrive\u001b[0m\u001b[0;34m.\u001b[0m\u001b[0mmount\u001b[0m\u001b[0;34m(\u001b[0m\u001b[0;34m'/content/drive'\u001b[0m\u001b[0;34m)\u001b[0m\u001b[0;34m\u001b[0m\u001b[0;34m\u001b[0m\u001b[0m\n\u001b[0m",
            "\u001b[0;32m/usr/local/lib/python3.10/dist-packages/google/colab/drive.py\u001b[0m in \u001b[0;36mmount\u001b[0;34m(mountpoint, force_remount, timeout_ms, readonly)\u001b[0m\n\u001b[1;32m     98\u001b[0m \u001b[0;32mdef\u001b[0m \u001b[0mmount\u001b[0m\u001b[0;34m(\u001b[0m\u001b[0mmountpoint\u001b[0m\u001b[0;34m,\u001b[0m \u001b[0mforce_remount\u001b[0m\u001b[0;34m=\u001b[0m\u001b[0;32mFalse\u001b[0m\u001b[0;34m,\u001b[0m \u001b[0mtimeout_ms\u001b[0m\u001b[0;34m=\u001b[0m\u001b[0;36m120000\u001b[0m\u001b[0;34m,\u001b[0m \u001b[0mreadonly\u001b[0m\u001b[0;34m=\u001b[0m\u001b[0;32mFalse\u001b[0m\u001b[0;34m)\u001b[0m\u001b[0;34m:\u001b[0m\u001b[0;34m\u001b[0m\u001b[0;34m\u001b[0m\u001b[0m\n\u001b[1;32m     99\u001b[0m   \u001b[0;34m\"\"\"Mount your Google Drive at the specified mountpoint path.\"\"\"\u001b[0m\u001b[0;34m\u001b[0m\u001b[0;34m\u001b[0m\u001b[0m\n\u001b[0;32m--> 100\u001b[0;31m   return _mount(\n\u001b[0m\u001b[1;32m    101\u001b[0m       \u001b[0mmountpoint\u001b[0m\u001b[0;34m,\u001b[0m\u001b[0;34m\u001b[0m\u001b[0;34m\u001b[0m\u001b[0m\n\u001b[1;32m    102\u001b[0m       \u001b[0mforce_remount\u001b[0m\u001b[0;34m=\u001b[0m\u001b[0mforce_remount\u001b[0m\u001b[0;34m,\u001b[0m\u001b[0;34m\u001b[0m\u001b[0;34m\u001b[0m\u001b[0m\n",
            "\u001b[0;32m/usr/local/lib/python3.10/dist-packages/google/colab/drive.py\u001b[0m in \u001b[0;36m_mount\u001b[0;34m(mountpoint, force_remount, timeout_ms, ephemeral, readonly)\u001b[0m\n\u001b[1;32m    127\u001b[0m   )\n\u001b[1;32m    128\u001b[0m   \u001b[0;32mif\u001b[0m \u001b[0mephemeral\u001b[0m\u001b[0;34m:\u001b[0m\u001b[0;34m\u001b[0m\u001b[0;34m\u001b[0m\u001b[0m\n\u001b[0;32m--> 129\u001b[0;31m     _message.blocking_request(\n\u001b[0m\u001b[1;32m    130\u001b[0m         \u001b[0;34m'request_auth'\u001b[0m\u001b[0;34m,\u001b[0m \u001b[0mrequest\u001b[0m\u001b[0;34m=\u001b[0m\u001b[0;34m{\u001b[0m\u001b[0;34m'authType'\u001b[0m\u001b[0;34m:\u001b[0m \u001b[0;34m'dfs_ephemeral'\u001b[0m\u001b[0;34m}\u001b[0m\u001b[0;34m,\u001b[0m \u001b[0mtimeout_sec\u001b[0m\u001b[0;34m=\u001b[0m\u001b[0;32mNone\u001b[0m\u001b[0;34m\u001b[0m\u001b[0;34m\u001b[0m\u001b[0m\n\u001b[1;32m    131\u001b[0m     )\n",
            "\u001b[0;32m/usr/local/lib/python3.10/dist-packages/google/colab/_message.py\u001b[0m in \u001b[0;36mblocking_request\u001b[0;34m(request_type, request, timeout_sec, parent)\u001b[0m\n\u001b[1;32m    174\u001b[0m       \u001b[0mrequest_type\u001b[0m\u001b[0;34m,\u001b[0m \u001b[0mrequest\u001b[0m\u001b[0;34m,\u001b[0m \u001b[0mparent\u001b[0m\u001b[0;34m=\u001b[0m\u001b[0mparent\u001b[0m\u001b[0;34m,\u001b[0m \u001b[0mexpect_reply\u001b[0m\u001b[0;34m=\u001b[0m\u001b[0;32mTrue\u001b[0m\u001b[0;34m\u001b[0m\u001b[0;34m\u001b[0m\u001b[0m\n\u001b[1;32m    175\u001b[0m   )\n\u001b[0;32m--> 176\u001b[0;31m   \u001b[0;32mreturn\u001b[0m \u001b[0mread_reply_from_input\u001b[0m\u001b[0;34m(\u001b[0m\u001b[0mrequest_id\u001b[0m\u001b[0;34m,\u001b[0m \u001b[0mtimeout_sec\u001b[0m\u001b[0;34m)\u001b[0m\u001b[0;34m\u001b[0m\u001b[0;34m\u001b[0m\u001b[0m\n\u001b[0m",
            "\u001b[0;32m/usr/local/lib/python3.10/dist-packages/google/colab/_message.py\u001b[0m in \u001b[0;36mread_reply_from_input\u001b[0;34m(message_id, timeout_sec)\u001b[0m\n\u001b[1;32m    101\u001b[0m     ):\n\u001b[1;32m    102\u001b[0m       \u001b[0;32mif\u001b[0m \u001b[0;34m'error'\u001b[0m \u001b[0;32min\u001b[0m \u001b[0mreply\u001b[0m\u001b[0;34m:\u001b[0m\u001b[0;34m\u001b[0m\u001b[0;34m\u001b[0m\u001b[0m\n\u001b[0;32m--> 103\u001b[0;31m         \u001b[0;32mraise\u001b[0m \u001b[0mMessageError\u001b[0m\u001b[0;34m(\u001b[0m\u001b[0mreply\u001b[0m\u001b[0;34m[\u001b[0m\u001b[0;34m'error'\u001b[0m\u001b[0;34m]\u001b[0m\u001b[0;34m)\u001b[0m\u001b[0;34m\u001b[0m\u001b[0;34m\u001b[0m\u001b[0m\n\u001b[0m\u001b[1;32m    104\u001b[0m       \u001b[0;32mreturn\u001b[0m \u001b[0mreply\u001b[0m\u001b[0;34m.\u001b[0m\u001b[0mget\u001b[0m\u001b[0;34m(\u001b[0m\u001b[0;34m'data'\u001b[0m\u001b[0;34m,\u001b[0m \u001b[0;32mNone\u001b[0m\u001b[0;34m)\u001b[0m\u001b[0;34m\u001b[0m\u001b[0;34m\u001b[0m\u001b[0m\n\u001b[1;32m    105\u001b[0m \u001b[0;34m\u001b[0m\u001b[0m\n",
            "\u001b[0;31mMessageError\u001b[0m: Error: credential propagation was unsuccessful"
          ]
        }
      ]
    },
    {
      "cell_type": "code",
      "execution_count": null,
      "metadata": {
        "id": "tmXFZVQJ60xS"
      },
      "outputs": [],
      "source": [
        "TRAIN_DATA = conll2spacy(trainList)"
      ]
    },
    {
      "cell_type": "code",
      "execution_count": null,
      "metadata": {
        "id": "n_wZrijEjRaG"
      },
      "outputs": [],
      "source": [
        "import warnings\n",
        "warnings.filterwarnings('ignore')"
      ]
    },
    {
      "cell_type": "code",
      "execution_count": null,
      "metadata": {
        "id": "TweFhaxJjtyO"
      },
      "outputs": [],
      "source": [
        "import spacy\n",
        "import numpy\n",
        "import pickle\n"
      ]
    },
    {
      "cell_type": "code",
      "execution_count": null,
      "metadata": {
        "id": "zANMD5rljij8"
      },
      "outputs": [],
      "source": [
        "lang=\"en\"\n",
        "vectors_loc = \"/content/sample_data/wiki-news-300d-1M.vec\"\n",
        "nlp = spacy.blank(lang)\n",
        "with open(vectors_loc, \"rb\") as file_:\n",
        "    header = file_.readline()\n",
        "    nr_row, nr_dim = header.split()\n",
        "    nlp.vocab.reset_vectors(width=int(nr_dim))\n",
        "    for line in file_:\n",
        "        line = line.rstrip().decode(\"utf8\")\n",
        "        pieces = line.rsplit(\" \", int(nr_dim))\n",
        "        word = pieces[0]\n",
        "        vector = numpy.asarray([float(v) for v in pieces[1:]], dtype=\"f\")\n",
        "        nlp.vocab.set_vector(word, vector)  # add the vectors to the vocab"
      ]
    },
    {
      "cell_type": "code",
      "execution_count": null,
      "metadata": {
        "colab": {
          "base_uri": "https://localhost:8080/"
        },
        "id": "AuvQpVLPjRaT",
        "outputId": "c7d8fbc2-04d5-49d5-d200-861c6eb9705e"
      },
      "outputs": [
        {
          "output_type": "stream",
          "name": "stdout",
          "text": [
            "similarity btw doctor and patient  :- 0.6411671042442322\n"
          ]
        }
      ],
      "source": [
        "text = \"I lost his doctor in patient yesterday\"\n",
        "doc = nlp(text)\n",
        "print(\"similarity btw\",doc[3] , \"and\", doc[5],\" :-\", doc[3].similarity(doc[5]))"
      ]
    },
    {
      "cell_type": "code",
      "source": [],
      "metadata": {
        "colab": {
          "base_uri": "https://localhost:8080/"
        },
        "id": "63-SsKbb0_Kt",
        "outputId": "2cff5ef4-edf0-4a66-d38a-fe0d521f16bf"
      },
      "execution_count": null,
      "outputs": [
        {
          "output_type": "stream",
          "name": "stdout",
          "text": [
            "\u001b[31mERROR: Could not find a version that satisfies the requirement spacy.gold (from versions: none)\u001b[0m\u001b[31m\n",
            "\u001b[0m\u001b[31mERROR: No matching distribution found for spacy.gold\u001b[0m\u001b[31m\n",
            "\u001b[0m"
          ]
        }
      ]
    },
    {
      "cell_type": "markdown",
      "metadata": {
        "id": "VKn6YehgjRap"
      },
      "source": [
        "# Part  2"
      ]
    },
    {
      "cell_type": "markdown",
      "metadata": {
        "id": "xGY9RoeGjRaq"
      },
      "source": [
        "Steps involved :-\n",
        "1. Loading required library\n",
        "2. Setting up the parameters for traning\n",
        "3. Traning and saving the best model"
      ]
    },
    {
      "cell_type": "code",
      "execution_count": null,
      "metadata": {
        "id": "f33b-LXvjRar"
      },
      "outputs": [],
      "source": [
        "import spacy\n",
        "import random # random function for to remove bais in Traning Data\n",
        "\n",
        "# for batch parsing\n",
        "from spacy.util import minibatch, compounding\n",
        "\n",
        "\n",
        "# For evaluateing the model from testing set\n",
        "from spacy.training import *\n",
        "from spacy.scorer import Scorer\n"
      ]
    },
    {
      "cell_type": "code",
      "execution_count": null,
      "metadata": {
        "id": "cW3dDFWgjRau"
      },
      "outputs": [],
      "source": [
        "def train_spacy(TRAIN_DATA,TEST_DATA,iterations,droprate = 0.5,modelName = \"modelTrained\"):\n",
        "\n",
        "    lang=\"en\"\n",
        "    vectors_loc = \"/content/sample_data/wiki-news-300d-1M.vec\"\n",
        "    modiner = spacy.blank(lang)\n",
        "    with open(vectors_loc, \"rb\") as file_:\n",
        "        header = file_.readline()\n",
        "        nr_row, nr_dim = header.split()\n",
        "        modiner.vocab.reset_vectors(width=int(nr_dim))\n",
        "        for line in file_:\n",
        "            line = line.rstrip().decode(\"utf8\")\n",
        "            pieces = line.rsplit(\" \", int(nr_dim))\n",
        "            word = pieces[0]\n",
        "            vector = numpy.asarray([float(v) for v in pieces[1:]], dtype=\"f\")\n",
        "            modiner.vocab.set_vector(word, vector)  # add the vectors to the vocab\n",
        "    ner = nlp.create_pipe(\"ner\")\n",
        "    if 'ner' not in modiner.pipe_names:\n",
        "        modiner.add_pipe(\"ner\", last=True)\n",
        "\n",
        "    # setting up f1score\n",
        "    f1score = 0.0000\n",
        "\n",
        "\n",
        "    # add labels that will be involved in training\n",
        "    for _, annotations in TRAIN_DATA:\n",
        "         for ent in annotations.get('entities'):\n",
        "            ner.add_label(ent[2])\n",
        "\n",
        "\n",
        "    # get names of other pipes to disable them during training\n",
        "    other_pipes = [pipe for pipe in modiner.pipe_names if pipe != 'ner']\n",
        "    with modiner.disable_pipes(*other_pipes):  # only train NER\n",
        "        optimizer = modiner.begin_training()\n",
        "\n",
        "        # --Iterations Starts--\n",
        "        for itn in range(iterations):\n",
        "            print(\"Starting iteration \" + str(itn))\n",
        "            #--Shuffling Traning Data--\n",
        "            random.shuffle(TRAIN_DATA)\n",
        "            losses = {}\n",
        "\n",
        "\n",
        "\n",
        "            # batch Traning For better Training and Learning of model\n",
        "            batches = minibatch(TRAIN_DATA, size=compounding(2.0, 16.0, 1.01))\n",
        "            examples = []\n",
        "            for batch in batches:\n",
        "                texts, annotations = zip(*batch)\n",
        "                examples.append(Example.from_dict(nlp.make_doc(text), annotation))\n",
        "\n",
        "                modiner.update(\n",
        "                    examples,  # batch of annotations\n",
        "                    drop=droprate,  # dropout - make it harder to memorise data\n",
        "                    losses=losses,\n",
        "                )\n",
        "            print(losses)\n",
        "\n",
        "\n",
        "            # Evaluating the Current Model Score on test data\n",
        "            results = evaluate(modiner, TEST_DATA)\n",
        "            print(\"Current Score :-\",results[\"ents_f\"], \"Precision  :-\",results[\"ents_p\"], \"Recall  :-\",results[\"ents_r\"])\n",
        "\n",
        "\n",
        "\n",
        "            # loading previous best saved model in start of traning\n",
        "            if f1score == 0.00:\n",
        "                try:\n",
        "                    pnlp = spacy.load(modelName)\n",
        "                    result = evaluate(pnlp, TEST_DATA) # calling evaluate function\n",
        "                    f1score = result[\"ents_f\"]\n",
        "                except:\n",
        "                    print(\"Previous Model not found\")\n",
        "\n",
        "            print(\"Best Sccore :- \",f1score)\n",
        "            print(\"------------------------------------\")\n",
        "            # finding out the best score\n",
        "            if f1score < results[\"ents_f\"]:\n",
        "                f1score = results[\"ents_f\"]\n",
        "\n",
        "                # Save our trained Model if the score if grater than best score else no change in previous model\n",
        "                modiner.to_disk(modelName)\n",
        "\n",
        "    print(\"-----Best Model is Saved-----\")\n",
        "\n"
      ]
    },
    {
      "cell_type": "code",
      "execution_count": null,
      "metadata": {
        "id": "xRX87HJnjRay"
      },
      "outputs": [],
      "source": [
        "def evaluate(ner_model, examples):\n",
        "    scorer = Scorer()\n",
        "\n",
        "    #loading tags for each input and Evaluating them\n",
        "    for input_, annotations in examples:\n",
        "        tags = []\n",
        "        # loading text\n",
        "        doc_gold_text = ner_model.make_doc(input_)\n",
        "\n",
        "        #loading all tags for that text\n",
        "        for ent in annotations.get('entities'):\n",
        "            tags.append(ent)\n",
        "\n",
        "        # Evaluating the tags\n",
        "        gold = Example(doc_gold_text, entities=tags)\n",
        "        pred_value = ner_model(input_)\n",
        "        scorer.score(pred_value, gold)\n",
        "\n",
        "\n",
        "    return scorer.scores\n"
      ]
    },
    {
      "cell_type": "code",
      "execution_count": null,
      "metadata": {
        "id": "Yz4LfssbjRa0"
      },
      "outputs": [],
      "source": [
        "def loadNERModel(modelName = \"modelTrained\"):\n",
        "    nlp = spacy.load(modelName)\n",
        "    return nlp"
      ]
    },
    {
      "cell_type": "code",
      "execution_count": null,
      "metadata": {
        "id": "guqS2EGBjRa3"
      },
      "outputs": [],
      "source": [
        "def score(model,TEST_DATA):\n",
        "    result = evaluate(model, TEST_DATA) # calling evaluate function\n",
        "    f1score = result[\"ents_f\"]\n",
        "    precision = result[\"ents_p\"]\n",
        "    recall = result[\"ents_r\"]\n",
        "    print(\"F1 score of Model is :-\",f1score)\n",
        "    print(\"Precision of Model is :-\",precision)\n",
        "    print(\"Recall of Model is :-\",recall)"
      ]
    },
    {
      "cell_type": "code",
      "execution_count": null,
      "metadata": {
        "id": "ZijYn1k6pJvL"
      },
      "outputs": [],
      "source": [
        "# traning the model with 100 iterations\n",
        "\n",
        "\n",
        "train_spacy(TRAIN_DATA,TEST_DATA, 1,droprate = 0.55, modelName = \"CrimeNER\")"
      ]
    },
    {
      "cell_type": "code",
      "execution_count": null,
      "metadata": {
        "id": "afOFw7bCjRbB"
      },
      "outputs": [],
      "source": [
        "# loading the saved model\n",
        "pnlp = loadNERModel(\"CrimeNER\")"
      ]
    },
    {
      "cell_type": "code",
      "execution_count": null,
      "metadata": {
        "id": "zQLM6egTpJvL",
        "outputId": "fe4812f7-265f-4aae-fc2b-f7f7d5cb747f"
      },
      "outputs": [
        {
          "name": "stdout",
          "output_type": "stream",
          "text": [
            "F1 score of Model is :- 86.47551444580847\n",
            "Precision of Model is :- 87.0393931979447\n",
            "Recall of Model is :- 85.91889476607976\n"
          ]
        }
      ],
      "source": [
        "# calculating the score of the model\n",
        "score(pnlp,TEST_DATA)"
      ]
    },
    {
      "cell_type": "code",
      "execution_count": null,
      "metadata": {
        "id": "Fq3fKUBujRbI"
      },
      "outputs": [],
      "source": [
        "from spacy import displacy\n"
      ]
    },
    {
      "cell_type": "code",
      "execution_count": null,
      "metadata": {
        "id": "vvywkBOA9AY2",
        "outputId": "1f7365cc-fc1b-403e-865b-547d44f35bcc"
      },
      "outputs": [
        {
          "data": {
            "text/html": [
              "<span class=\"tex2jax_ignore\"><div class=\"entities\" style=\"line-height: 2.5; direction: ltr\">he was \n",
              "<mark class=\"entity\" style=\"background: #ddd; padding: 0.45em 0.6em; margin: 0 0.25em; line-height: 1; border-radius: 0.35em;\">\n",
              "    killed\n",
              "    <span style=\"font-size: 0.8em; font-weight: bold; line-height: 1; border-radius: 0.35em; text-transform: uppercase; vertical-align: middle; margin-left: 0.5rem\">B-Crime</span>\n",
              "</mark>\n",
              " due to \n",
              "<mark class=\"entity\" style=\"background: #ddd; padding: 0.45em 0.6em; margin: 0 0.25em; line-height: 1; border-radius: 0.35em;\">\n",
              "    harassment\n",
              "    <span style=\"font-size: 0.8em; font-weight: bold; line-height: 1; border-radius: 0.35em; text-transform: uppercase; vertical-align: middle; margin-left: 0.5rem\">B-Crime</span>\n",
              "</mark>\n",
              "</div></span>"
            ],
            "text/plain": [
              "<IPython.core.display.HTML object>"
            ]
          },
          "metadata": {},
          "output_type": "display_data"
        }
      ],
      "source": [
        "testcase = pnlp('he was killed due to harassment')\n",
        "displacy.render(testcase, style='ent', jupyter=True)"
      ]
    },
    {
      "cell_type": "code",
      "execution_count": null,
      "metadata": {
        "id": "-OHvJTkjpJvM",
        "outputId": "14dde88b-0d80-4299-daba-40a9811b4df7"
      },
      "outputs": [
        {
          "data": {
            "text/html": [
              "<span class=\"tex2jax_ignore\"><div class=\"entities\" style=\"line-height: 2.5; direction: ltr\">A woman was \n",
              "<mark class=\"entity\" style=\"background: #ddd; padding: 0.45em 0.6em; margin: 0 0.25em; line-height: 1; border-radius: 0.35em;\">\n",
              "    assault\n",
              "    <span style=\"font-size: 0.8em; font-weight: bold; line-height: 1; border-radius: 0.35em; text-transform: uppercase; vertical-align: middle; margin-left: 0.5rem\">B-Crime</span>\n",
              "</mark>\n",
              " by two men near \n",
              "<mark class=\"entity\" style=\"background: #ddd; padding: 0.45em 0.6em; margin: 0 0.25em; line-height: 1; border-radius: 0.35em;\">\n",
              "    Shahdara\n",
              "    <span style=\"font-size: 0.8em; font-weight: bold; line-height: 1; border-radius: 0.35em; text-transform: uppercase; vertical-align: middle; margin-left: 0.5rem\">B-geo</span>\n",
              "</mark>\n",
              "</div></span>"
            ],
            "text/plain": [
              "<IPython.core.display.HTML object>"
            ]
          },
          "metadata": {},
          "output_type": "display_data"
        }
      ],
      "source": [
        "testcase = pnlp('A woman was assault by two men near Shahdara')\n",
        "displacy.render(testcase, style='ent', jupyter=True)"
      ]
    },
    {
      "cell_type": "code",
      "execution_count": null,
      "metadata": {
        "id": "8Tyb4RAWpJvM",
        "outputId": "78e8a86d-01a1-42d3-b917-18c90ec5379c"
      },
      "outputs": [
        {
          "data": {
            "text/html": [
              "<span class=\"tex2jax_ignore\"><div class=\"entities\" style=\"line-height: 2.5; direction: ltr\">My name is \n",
              "<mark class=\"entity\" style=\"background: #ddd; padding: 0.45em 0.6em; margin: 0 0.25em; line-height: 1; border-radius: 0.35em;\">\n",
              "    Pooja\n",
              "    <span style=\"font-size: 0.8em; font-weight: bold; line-height: 1; border-radius: 0.35em; text-transform: uppercase; vertical-align: middle; margin-left: 0.5rem\">B-per</span>\n",
              "</mark>\n",
              " \n",
              "<mark class=\"entity\" style=\"background: #ddd; padding: 0.45em 0.6em; margin: 0 0.25em; line-height: 1; border-radius: 0.35em;\">\n",
              "    I\n",
              "    <span style=\"font-size: 0.8em; font-weight: bold; line-height: 1; border-radius: 0.35em; text-transform: uppercase; vertical-align: middle; margin-left: 0.5rem\">I-per</span>\n",
              "</mark>\n",
              " was near \n",
              "<mark class=\"entity\" style=\"background: #ddd; padding: 0.45em 0.6em; margin: 0 0.25em; line-height: 1; border-radius: 0.35em;\">\n",
              "    Domino-pizza\n",
              "    <span style=\"font-size: 0.8em; font-weight: bold; line-height: 1; border-radius: 0.35em; text-transform: uppercase; vertical-align: middle; margin-left: 0.5rem\">B-org</span>\n",
              "</mark>\n",
              " in \n",
              "<mark class=\"entity\" style=\"background: #ddd; padding: 0.45em 0.6em; margin: 0 0.25em; line-height: 1; border-radius: 0.35em;\">\n",
              "    Pinjore\n",
              "    <span style=\"font-size: 0.8em; font-weight: bold; line-height: 1; border-radius: 0.35em; text-transform: uppercase; vertical-align: middle; margin-left: 0.5rem\">B-geo</span>\n",
              "</mark>\n",
              " a man on bike \n",
              "<mark class=\"entity\" style=\"background: #ddd; padding: 0.45em 0.6em; margin: 0 0.25em; line-height: 1; border-radius: 0.35em;\">\n",
              "    snatched\n",
              "    <span style=\"font-size: 0.8em; font-weight: bold; line-height: 1; border-radius: 0.35em; text-transform: uppercase; vertical-align: middle; margin-left: 0.5rem\">B-Crime</span>\n",
              "</mark>\n",
              " my purse</div></span>"
            ],
            "text/plain": [
              "<IPython.core.display.HTML object>"
            ]
          },
          "metadata": {},
          "output_type": "display_data"
        }
      ],
      "source": [
        "testcase = pnlp('My name is Pooja I was near Domino-pizza in Pinjore a man on bike snatched my purse')\n",
        "displacy.render(testcase, style='ent', jupyter=True)"
      ]
    },
    {
      "cell_type": "code",
      "execution_count": null,
      "metadata": {
        "id": "6KnyiH09pJvM",
        "outputId": "d54f27e0-6a90-4b43-fc26-00ae70e417ae"
      },
      "outputs": [
        {
          "data": {
            "text/html": [
              "<span class=\"tex2jax_ignore\"><div class=\"entities\" style=\"line-height: 2.5; direction: ltr\">My name is \n",
              "<mark class=\"entity\" style=\"background: #ddd; padding: 0.45em 0.6em; margin: 0 0.25em; line-height: 1; border-radius: 0.35em;\">\n",
              "    Amit\n",
              "    <span style=\"font-size: 0.8em; font-weight: bold; line-height: 1; border-radius: 0.35em; text-transform: uppercase; vertical-align: middle; margin-left: 0.5rem\">B-per</span>\n",
              "</mark>\n",
              " \n",
              "<mark class=\"entity\" style=\"background: #ddd; padding: 0.45em 0.6em; margin: 0 0.25em; line-height: 1; border-radius: 0.35em;\">\n",
              "    I\n",
              "    <span style=\"font-size: 0.8em; font-weight: bold; line-height: 1; border-radius: 0.35em; text-transform: uppercase; vertical-align: middle; margin-left: 0.5rem\">I-per</span>\n",
              "</mark>\n",
              " saw a woman \n",
              "<mark class=\"entity\" style=\"background: #ddd; padding: 0.45em 0.6em; margin: 0 0.25em; line-height: 1; border-radius: 0.35em;\">\n",
              "    killing\n",
              "    <span style=\"font-size: 0.8em; font-weight: bold; line-height: 1; border-radius: 0.35em; text-transform: uppercase; vertical-align: middle; margin-left: 0.5rem\">B-Crime</span>\n",
              "</mark>\n",
              " a dog on \n",
              "<mark class=\"entity\" style=\"background: #ddd; padding: 0.45em 0.6em; margin: 0 0.25em; line-height: 1; border-radius: 0.35em;\">\n",
              "    15th\n",
              "    <span style=\"font-size: 0.8em; font-weight: bold; line-height: 1; border-radius: 0.35em; text-transform: uppercase; vertical-align: middle; margin-left: 0.5rem\">B-tim</span>\n",
              "</mark>\n",
              " \n",
              "<mark class=\"entity\" style=\"background: #ddd; padding: 0.45em 0.6em; margin: 0 0.25em; line-height: 1; border-radius: 0.35em;\">\n",
              "    july\n",
              "    <span style=\"font-size: 0.8em; font-weight: bold; line-height: 1; border-radius: 0.35em; text-transform: uppercase; vertical-align: middle; margin-left: 0.5rem\">I-tim</span>\n",
              "</mark>\n",
              " near \n",
              "<mark class=\"entity\" style=\"background: #ddd; padding: 0.45em 0.6em; margin: 0 0.25em; line-height: 1; border-radius: 0.35em;\">\n",
              "    Kalujhanda\n",
              "    <span style=\"font-size: 0.8em; font-weight: bold; line-height: 1; border-radius: 0.35em; text-transform: uppercase; vertical-align: middle; margin-left: 0.5rem\">B-geo</span>\n",
              "</mark>\n",
              "</div></span>"
            ],
            "text/plain": [
              "<IPython.core.display.HTML object>"
            ]
          },
          "metadata": {},
          "output_type": "display_data"
        }
      ],
      "source": [
        "testcase = pnlp('My name is Amit I saw a woman killing a dog on 15th july near Kalujhanda')\n",
        "displacy.render(testcase, style='ent', jupyter=True)"
      ]
    },
    {
      "cell_type": "code",
      "execution_count": null,
      "metadata": {
        "id": "00JgazqIpJvN",
        "outputId": "c8f23d6d-06f4-4e51-a91e-be9a04f7a47f"
      },
      "outputs": [
        {
          "data": {
            "text/html": [
              "<span class=\"tex2jax_ignore\"><div class=\"entities\" style=\"line-height: 2.5; direction: ltr\">A car \n",
              "<mark class=\"entity\" style=\"background: #ddd; padding: 0.45em 0.6em; margin: 0 0.25em; line-height: 1; border-radius: 0.35em;\">\n",
              "    hit\n",
              "    <span style=\"font-size: 0.8em; font-weight: bold; line-height: 1; border-radius: 0.35em; text-transform: uppercase; vertical-align: middle; margin-left: 0.5rem\">B-Crime</span>\n",
              "</mark>\n",
              " me at \n",
              "<mark class=\"entity\" style=\"background: #ddd; padding: 0.45em 0.6em; margin: 0 0.25em; line-height: 1; border-radius: 0.35em;\">\n",
              "    Mansarovar\n",
              "    <span style=\"font-size: 0.8em; font-weight: bold; line-height: 1; border-radius: 0.35em; text-transform: uppercase; vertical-align: middle; margin-left: 0.5rem\">B-geo</span>\n",
              "</mark>\n",
              " \n",
              "<mark class=\"entity\" style=\"background: #ddd; padding: 0.45em 0.6em; margin: 0 0.25em; line-height: 1; border-radius: 0.35em;\">\n",
              "    Park\n",
              "    <span style=\"font-size: 0.8em; font-weight: bold; line-height: 1; border-radius: 0.35em; text-transform: uppercase; vertical-align: middle; margin-left: 0.5rem\">I-geo</span>\n",
              "</mark>\n",
              " at 5pm wraped</div></span>"
            ],
            "text/plain": [
              "<IPython.core.display.HTML object>"
            ]
          },
          "metadata": {},
          "output_type": "display_data"
        }
      ],
      "source": [
        "testcase = pnlp('A car hit me at Mansarovar Park at 5pm wraped')\n",
        "displacy.render(testcase, style='ent', jupyter=True)"
      ]
    },
    {
      "cell_type": "code",
      "execution_count": null,
      "metadata": {
        "id": "Mqsoj-LLpJvN",
        "outputId": "10afde33-b60c-44f3-f2ed-c04ec6a69631"
      },
      "outputs": [
        {
          "data": {
            "text/html": [
              "<span class=\"tex2jax_ignore\"><div class=\"entities\" style=\"line-height: 2.5; direction: ltr\">\n",
              "<mark class=\"entity\" style=\"background: #ddd; padding: 0.45em 0.6em; margin: 0 0.25em; line-height: 1; border-radius: 0.35em;\">\n",
              "    Yesterday\n",
              "    <span style=\"font-size: 0.8em; font-weight: bold; line-height: 1; border-radius: 0.35em; text-transform: uppercase; vertical-align: middle; margin-left: 0.5rem\">B-tim</span>\n",
              "</mark>\n",
              " there was incident of \n",
              "<mark class=\"entity\" style=\"background: #ddd; padding: 0.45em 0.6em; margin: 0 0.25em; line-height: 1; border-radius: 0.35em;\">\n",
              "    theft\n",
              "    <span style=\"font-size: 0.8em; font-weight: bold; line-height: 1; border-radius: 0.35em; text-transform: uppercase; vertical-align: middle; margin-left: 0.5rem\">B-Crime</span>\n",
              "</mark>\n",
              " near my house</div></span>"
            ],
            "text/plain": [
              "<IPython.core.display.HTML object>"
            ]
          },
          "metadata": {},
          "output_type": "display_data"
        }
      ],
      "source": [
        "testcase = pnlp('Yesterday there was incident of theft near my house')\n",
        "displacy.render(testcase, style='ent', jupyter=True)"
      ]
    },
    {
      "cell_type": "code",
      "execution_count": null,
      "metadata": {
        "id": "mMsA-3SmpJvO",
        "outputId": "e51273d0-6e1a-44ef-9255-3e4ff983881d"
      },
      "outputs": [
        {
          "data": {
            "text/html": [
              "<span class=\"tex2jax_ignore\"><div class=\"entities\" style=\"line-height: 2.5; direction: ltr\">A man slapped a girl in the \n",
              "<mark class=\"entity\" style=\"background: #ddd; padding: 0.45em 0.6em; margin: 0 0.25em; line-height: 1; border-radius: 0.35em;\">\n",
              "    Sadar\n",
              "    <span style=\"font-size: 0.8em; font-weight: bold; line-height: 1; border-radius: 0.35em; text-transform: uppercase; vertical-align: middle; margin-left: 0.5rem\">B-geo</span>\n",
              "</mark>\n",
              " market</div></span>"
            ],
            "text/plain": [
              "<IPython.core.display.HTML object>"
            ]
          },
          "metadata": {},
          "output_type": "display_data"
        }
      ],
      "source": [
        "testcase = pnlp('A man slapped a girl in the Sadar market')\n",
        "displacy.render(testcase, style='ent', jupyter=True)"
      ]
    },
    {
      "cell_type": "code",
      "execution_count": null,
      "metadata": {
        "id": "NTmSz1WApJvO",
        "outputId": "56d70c47-b5ea-428e-f434-a122ee14cacf"
      },
      "outputs": [
        {
          "name": "stderr",
          "output_type": "stream",
          "text": [
            "C:\\Users\\Shreya\\anaconda3\\lib\\site-packages\\spacy\\displacy\\__init__.py:189: UserWarning: [W006] No entities to visualize found in Doc object. If this is surprising to you, make sure the Doc was processed using a model that supports named entity recognition, and check the `doc.ents` property manually if necessary.\n",
            "  warnings.warn(Warnings.W006)\n"
          ]
        },
        {
          "data": {
            "text/html": [
              "<span class=\"tex2jax_ignore\"><div class=\"entities\" style=\"line-height: 2.5; direction: ltr\">  </div></span>"
            ],
            "text/plain": [
              "<IPython.core.display.HTML object>"
            ]
          },
          "metadata": {},
          "output_type": "display_data"
        }
      ],
      "source": [
        "testcase = pnlp('  ')\n",
        "displacy.render(testcase, style='ent', jupyter=True)"
      ]
    },
    {
      "cell_type": "code",
      "execution_count": null,
      "metadata": {
        "id": "NhOiJ5nTpJvO"
      },
      "outputs": [],
      "source": [
        "testcase = pnlp('  ')\n",
        "displacy.render(testcase, style='ent', jupyter=True)"
      ]
    },
    {
      "cell_type": "code",
      "execution_count": null,
      "metadata": {
        "id": "GLYlUpmVpJvP"
      },
      "outputs": [],
      "source": [
        "testcase = pnlp('  ')\n",
        "displacy.render(testcase, style='ent', jupyter=True)"
      ]
    },
    {
      "cell_type": "code",
      "execution_count": null,
      "metadata": {
        "id": "55BBsXt2pJvP"
      },
      "outputs": [],
      "source": [
        "testcase = pnlp('  ')\n",
        "displacy.render(testcase, style='ent', jupyter=True)"
      ]
    },
    {
      "cell_type": "code",
      "execution_count": null,
      "metadata": {
        "id": "SX0sxFLCpJvP"
      },
      "outputs": [],
      "source": []
    },
    {
      "cell_type": "code",
      "execution_count": null,
      "metadata": {
        "id": "0begjTbspJvQ"
      },
      "outputs": [],
      "source": []
    },
    {
      "cell_type": "code",
      "execution_count": null,
      "metadata": {
        "id": "AOW7ZtPupJvQ"
      },
      "outputs": [],
      "source": []
    },
    {
      "cell_type": "code",
      "execution_count": null,
      "metadata": {
        "id": "q_LJMq_TpJvQ"
      },
      "outputs": [],
      "source": []
    },
    {
      "cell_type": "code",
      "execution_count": null,
      "metadata": {
        "id": "axuRCCUGpJvR"
      },
      "outputs": [],
      "source": []
    },
    {
      "cell_type": "code",
      "execution_count": null,
      "metadata": {
        "id": "bIWrMATnpJvR"
      },
      "outputs": [],
      "source": []
    },
    {
      "cell_type": "code",
      "execution_count": null,
      "metadata": {
        "id": "Bnj-YF-4pJvR"
      },
      "outputs": [],
      "source": []
    }
  ],
  "metadata": {
    "colab": {
      "provenance": [],
      "include_colab_link": true
    },
    "kernelspec": {
      "display_name": "Python 3",
      "language": "python",
      "name": "python3"
    },
    "language_info": {
      "codemirror_mode": {
        "name": "ipython",
        "version": 3
      },
      "file_extension": ".py",
      "mimetype": "text/x-python",
      "name": "python",
      "nbconvert_exporter": "python",
      "pygments_lexer": "ipython3",
      "version": "3.7.6"
    }
  },
  "nbformat": 4,
  "nbformat_minor": 0
}