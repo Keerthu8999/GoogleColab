{
  "nbformat": 4,
  "nbformat_minor": 0,
  "metadata": {
    "colab": {
      "provenance": [],
      "authorship_tag": "ABX9TyOjvpOKZTifjwTCaX7wLZlT",
      "include_colab_link": true
    },
    "kernelspec": {
      "name": "python3",
      "display_name": "Python 3"
    },
    "language_info": {
      "name": "python"
    }
  },
  "cells": [
    {
      "cell_type": "markdown",
      "metadata": {
        "id": "view-in-github",
        "colab_type": "text"
      },
      "source": [
        "<a href=\"https://colab.research.google.com/github/Keerthu8999/GoogleColab/blob/main/Notebook2.ipynb\" target=\"_parent\"><img src=\"https://colab.research.google.com/assets/colab-badge.svg\" alt=\"Open In Colab\"/></a>"
      ]
    },
    {
      "cell_type": "code",
      "execution_count": 3,
      "metadata": {
        "id": "QcvUIfSSftDe"
      },
      "outputs": [],
      "source": [
        "text = \"\"\"\n",
        "Thousands O\n",
        "of O\n",
        "demonstrators O\n",
        "have O\n",
        "marched O\n",
        "through O\n",
        "London B-geo\n",
        "to O\n",
        "protest O\n",
        "the O\n",
        "war O\n",
        "in O\n",
        "Iraq B-geo\n",
        "and O\n",
        "demand O\n",
        "the O\n",
        "withdrawal O\n",
        "of O\n",
        "British B-gpe\n",
        "troops O\n",
        "from O\n",
        "that O\n",
        "country O\n",
        "\n",
        "Families O\n",
        "of O\n",
        "soldiers O\n",
        "killed B-Crime\n",
        "in O\n",
        "the O\n",
        "conflict O\n",
        "joined O\n",
        "the O\n",
        "protesters O\n",
        "who O\n",
        "carried O\n",
        "banners O\n",
        "with O\n",
        "such O\n",
        "slogans O\n",
        "as O\n",
        "Bush B-per\n",
        "Number O\n",
        "One O\n",
        "Terrorist O\n",
        "and O\n",
        "Stop O\n",
        "the O\n",
        "Bombings O\n",
        "\"\"\""
      ]
    },
    {
      "cell_type": "code",
      "source": [
        "import warnings\n",
        "warnings.filterwarnings('ignore')\n"
      ],
      "metadata": {
        "id": "meXylSXDxCvs"
      },
      "execution_count": 23,
      "outputs": []
    },
    {
      "cell_type": "code",
      "source": [
        "import pandas as pd\n",
        "with open(\"/content/Crimetrain.txt\", \"r\") as file:\n",
        "    text = file.read()\n",
        "lines = text.strip().split('\\n')\n",
        "df = pd.DataFrame(columns=['sentence', 'word_labels'])\n",
        "word = \"\"\n",
        "category = \"\"\n",
        "# Iterate through each line\n",
        "for line in lines:\n",
        "    parts = line.split()\n",
        "    if parts and len(parts) == 2:\n",
        "      w = parts[0]\n",
        "      c = parts[1]\n",
        "      word = word + w + \" \"\n",
        "      category = category + c+ ','\n",
        "    else:\n",
        "      word = word[:-1]\n",
        "      category = category[:-1]\n",
        "      df = df.append({'sentence': word, 'word_labels': category}, ignore_index=True)\n",
        "      word = \"\"\n",
        "      category = \"\"\n",
        "df = df.append({'sentence': word, 'word_labels': category}, ignore_index=True)"
      ],
      "metadata": {
        "id": "Ev373KK9ibXa"
      },
      "execution_count": 30,
      "outputs": []
    },
    {
      "cell_type": "code",
      "source": [
        "df"
      ],
      "metadata": {
        "id": "uCqg0PfQlAsf"
      },
      "execution_count": null,
      "outputs": []
    }
  ]
}