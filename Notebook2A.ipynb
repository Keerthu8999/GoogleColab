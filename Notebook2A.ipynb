{
  "nbformat": 4,
  "nbformat_minor": 0,
  "metadata": {
    "colab": {
      "provenance": [],
      "authorship_tag": "ABX9TyM9fCfe+/dDrjA2tdhATGeP",
      "include_colab_link": true
    },
    "kernelspec": {
      "name": "python3",
      "display_name": "Python 3"
    },
    "language_info": {
      "name": "python"
    }
  },
  "cells": [
    {
      "cell_type": "markdown",
      "metadata": {
        "id": "view-in-github",
        "colab_type": "text"
      },
      "source": [
        "<a href=\"https://colab.research.google.com/github/Keerthu8999/GoogleColab/blob/main/Notebook2A.ipynb\" target=\"_parent\"><img src=\"https://colab.research.google.com/assets/colab-badge.svg\" alt=\"Open In Colab\"/></a>"
      ]
    },
    {
      "cell_type": "code",
      "source": [],
      "metadata": {
        "id": "dca3Ci8Q0w_p"
      },
      "execution_count": null,
      "outputs": []
    },
    {
      "cell_type": "code",
      "source": [
        "import warnings\n",
        "warnings.filterwarnings('ignore')\n"
      ],
      "metadata": {
        "id": "meXylSXDxCvs"
      },
      "execution_count": 23,
      "outputs": []
    },
    {
      "cell_type": "code",
      "source": [
        "import pandas as pd\n",
        "with open(\"/content/Crimetrain.txt\", \"r\") as file:\n",
        "    text = file.read()\n",
        "lines = text.strip().split('\\n')\n",
        "df = pd.DataFrame(columns=['sentence', 'word_labels'])\n",
        "word = \"\"\n",
        "category = \"\"\n",
        "# Iterate through each line\n",
        "for line in lines:\n",
        "    parts = line.split()\n",
        "    if parts and len(parts) == 2:\n",
        "      w = parts[0]\n",
        "      c = parts[1]\n",
        "      word = word + w + \" \"\n",
        "      category = category + c+ ','\n",
        "    else:\n",
        "      word = word[:-1]\n",
        "      category = category[:-1]\n",
        "      df = df.append({'sentence': word, 'word_labels': category}, ignore_index=True)\n",
        "      word = \"\"\n",
        "      category = \"\"\n",
        "df = df.append({'sentence': word, 'word_labels': category}, ignore_index=True)"
      ],
      "metadata": {
        "id": "Ev373KK9ibXa"
      },
      "execution_count": 30,
      "outputs": []
    },
    {
      "cell_type": "code",
      "source": [
        "df"
      ],
      "metadata": {
        "id": "uCqg0PfQlAsf"
      },
      "execution_count": null,
      "outputs": []
    },
    {
      "cell_type": "code",
      "source": [
        "df.iloc[41].sentence"
      ],
      "metadata": {
        "colab": {
          "base_uri": "https://localhost:8080/",
          "height": 52
        },
        "id": "SjWBATSv0GjC",
        "outputId": "b7d4a15d-af1e-40d0-8166-a39a5a9c2947"
      },
      "execution_count": 35,
      "outputs": [
        {
          "output_type": "execute_result",
          "data": {
            "text/plain": [
              "'Bedfordshire police said Tuesday that Omar Khayam was arrested in Bedford for breaching the conditions of his parole'"
            ],
            "application/vnd.google.colaboratory.intrinsic+json": {
              "type": "string"
            }
          },
          "metadata": {},
          "execution_count": 35
        }
      ]
    },
    {
      "cell_type": "code",
      "source": [
        "df.iloc[41].word_labels"
      ],
      "metadata": {
        "colab": {
          "base_uri": "https://localhost:8080/",
          "height": 35
        },
        "id": "ywSPXkPY0CF4",
        "outputId": "a570b447-1aab-4f9c-8680-fd1dfeeb8592"
      },
      "execution_count": 34,
      "outputs": [
        {
          "output_type": "execute_result",
          "data": {
            "text/plain": [
              "'B-gpe,O,O,B-tim,O,B-per,I-per,O,O,O,B-geo,O,O,O,O,O,O,O'"
            ],
            "application/vnd.google.colaboratory.intrinsic+json": {
              "type": "string"
            }
          },
          "metadata": {},
          "execution_count": 34
        }
      ]
    }
  ]
}